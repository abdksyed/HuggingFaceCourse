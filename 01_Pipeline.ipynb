{
  "nbformat": 4,
  "nbformat_minor": 0,
  "metadata": {
    "colab": {
      "name": "01_Pipeline.ipynb",
      "provenance": [],
      "authorship_tag": "ABX9TyMoS/+TtqIhu058AOjKS4MV",
      "include_colab_link": true
    },
    "kernelspec": {
      "name": "python3",
      "display_name": "Python 3"
    },
    "language_info": {
      "name": "python"
    }
  },
  "cells": [
    {
      "cell_type": "markdown",
      "metadata": {
        "id": "view-in-github",
        "colab_type": "text"
      },
      "source": [
        "<a href=\"https://colab.research.google.com/github/abdksyed/HuggingFaceCourse/blob/main/01_Pipeline.ipynb\" target=\"_parent\"><img src=\"https://colab.research.google.com/assets/colab-badge.svg\" alt=\"Open In Colab\"/></a>"
      ]
    },
    {
      "cell_type": "code",
      "metadata": {
        "id": "ir6XRc8z_KxC"
      },
      "source": [
        "!pip install transformers"
      ],
      "execution_count": null,
      "outputs": []
    },
    {
      "cell_type": "code",
      "metadata": {
        "id": "Z_2vjE8A7SKm"
      },
      "source": [
        "from transformers import pipeline"
      ],
      "execution_count": 33,
      "outputs": []
    },
    {
      "cell_type": "markdown",
      "metadata": {
        "id": "FTQpch_A_GY0"
      },
      "source": [
        "## Fill Mask"
      ]
    },
    {
      "cell_type": "markdown",
      "metadata": {
        "id": "R66r1yFhBUbT"
      },
      "source": [
        "### distilroberta-base (default)"
      ]
    },
    {
      "cell_type": "code",
      "metadata": {
        "id": "L4N-7Npb_E2L"
      },
      "source": [
        "filler = pipeline('fill-mask')"
      ],
      "execution_count": null,
      "outputs": []
    },
    {
      "cell_type": "code",
      "metadata": {
        "colab": {
          "base_uri": "https://localhost:8080/"
        },
        "id": "7jauXVHs_bcq",
        "outputId": "9f676c44-efb7-44a5-9ba7-a9f88eecddd4"
      },
      "source": [
        "filler('I am Iron <mask>')"
      ],
      "execution_count": 32,
      "outputs": [
        {
          "output_type": "execute_result",
          "data": {
            "text/plain": [
              "[{'score': 0.3542100489139557,\n",
              "  'sequence': 'I am Iron Fist',\n",
              "  'token': 39639,\n",
              "  'token_str': ' Fist'},\n",
              " {'score': 0.2246481478214264,\n",
              "  'sequence': 'I am Iron Maiden',\n",
              "  'token': 34404,\n",
              "  'token_str': ' Maiden'},\n",
              " {'score': 0.14488089084625244,\n",
              "  'sequence': 'I am Iron Man',\n",
              "  'token': 1554,\n",
              "  'token_str': ' Man'},\n",
              " {'score': 0.021649936214089394,\n",
              "  'sequence': 'I am Ironclad',\n",
              "  'token': 25769,\n",
              "  'token_str': 'clad'},\n",
              " {'score': 0.011301464401185513,\n",
              "  'sequence': 'I am Iron Lady',\n",
              "  'token': 4645,\n",
              "  'token_str': ' Lady'}]"
            ]
          },
          "metadata": {},
          "execution_count": 32
        }
      ]
    },
    {
      "cell_type": "markdown",
      "metadata": {
        "id": "HBDS8TgMBY3y"
      },
      "source": [
        "### bert-base-uncased"
      ]
    },
    {
      "cell_type": "code",
      "metadata": {
        "id": "suih3UO0_0Dy"
      },
      "source": [
        "filler = pipeline('fill-mask', model = 'bert-base-uncased')"
      ],
      "execution_count": null,
      "outputs": []
    },
    {
      "cell_type": "code",
      "metadata": {
        "colab": {
          "base_uri": "https://localhost:8080/"
        },
        "id": "U6AEMv_yBCgT",
        "outputId": "276444c4-6da5-4042-de9d-5d5bb65321bf"
      },
      "source": [
        "filler('I am Iron [MASK]')"
      ],
      "execution_count": 35,
      "outputs": [
        {
          "output_type": "execute_result",
          "data": {
            "text/plain": [
              "[{'score': 0.9641385674476624,\n",
              "  'sequence': 'i am iron.',\n",
              "  'token': 1012,\n",
              "  'token_str': '.'},\n",
              " {'score': 0.019885586574673653,\n",
              "  'sequence': 'i am iron ;',\n",
              "  'token': 1025,\n",
              "  'token_str': ';'},\n",
              " {'score': 0.015670092776417732,\n",
              "  'sequence': 'i am iron!',\n",
              "  'token': 999,\n",
              "  'token_str': '!'},\n",
              " {'score': 0.00029344402719289064,\n",
              "  'sequence': 'i am iron?',\n",
              "  'token': 1029,\n",
              "  'token_str': '?'},\n",
              " {'score': 3.545962272255565e-06,\n",
              "  'sequence': 'i am iron...',\n",
              "  'token': 2133,\n",
              "  'token_str': '...'}]"
            ]
          },
          "metadata": {},
          "execution_count": 35
        }
      ]
    },
    {
      "cell_type": "markdown",
      "metadata": {
        "id": "g__zuo8fBb_p"
      },
      "source": [
        "### bert-large-uncased"
      ]
    },
    {
      "cell_type": "code",
      "metadata": {
        "id": "6nWzx0k8BFcB"
      },
      "source": [
        "filler = pipeline('fill-mask', model = 'bert-large-uncased')"
      ],
      "execution_count": null,
      "outputs": []
    },
    {
      "cell_type": "code",
      "metadata": {
        "colab": {
          "base_uri": "https://localhost:8080/"
        },
        "id": "-Ck4puwLBSEx",
        "outputId": "efe54e75-6115-4a80-d6c9-bbaeb60a7991"
      },
      "source": [
        "filler('I am Iron [MASK]')"
      ],
      "execution_count": 37,
      "outputs": [
        {
          "output_type": "execute_result",
          "data": {
            "text/plain": [
              "[{'score': 0.9920758008956909,\n",
              "  'sequence': 'i am iron.',\n",
              "  'token': 1012,\n",
              "  'token_str': '.'},\n",
              " {'score': 0.00676016416400671,\n",
              "  'sequence': 'i am iron ;',\n",
              "  'token': 1025,\n",
              "  'token_str': ';'},\n",
              " {'score': 0.0011607486521825194,\n",
              "  'sequence': 'i am iron!',\n",
              "  'token': 999,\n",
              "  'token_str': '!'},\n",
              " {'score': 2.3535060336143943e-06,\n",
              "  'sequence': 'i am iron?',\n",
              "  'token': 1029,\n",
              "  'token_str': '?'},\n",
              " {'score': 3.299190041161637e-07,\n",
              "  'sequence': 'i am iron |',\n",
              "  'token': 1064,\n",
              "  'token_str': '|'}]"
            ]
          },
          "metadata": {},
          "execution_count": 37
        }
      ]
    },
    {
      "cell_type": "code",
      "metadata": {
        "id": "QEKbVAPrBdoS"
      },
      "source": [
        ""
      ],
      "execution_count": null,
      "outputs": []
    }
  ]
}